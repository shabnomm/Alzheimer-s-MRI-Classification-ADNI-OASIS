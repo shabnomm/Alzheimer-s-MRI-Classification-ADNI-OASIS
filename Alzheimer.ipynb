{
  "nbformat": 4,
  "nbformat_minor": 0,
  "metadata": {
    "colab": {
      "provenance": [],
      "gpuType": "T4",
      "authorship_tag": "ABX9TyMfwZyuRke+mkaae9uNVz/x",
      "include_colab_link": true
    },
    "kernelspec": {
      "name": "python3",
      "display_name": "Python 3"
    },
    "language_info": {
      "name": "python"
    },
    "accelerator": "GPU"
  },
  "cells": [
    {
      "cell_type": "markdown",
      "metadata": {
        "id": "view-in-github",
        "colab_type": "text"
      },
      "source": [
        "<a href=\"https://colab.research.google.com/github/shabnomm/Alzheimer-s-MRI-ADNI-OASIS-/blob/main/Alzheimer.ipynb\" target=\"_parent\"><img src=\"https://colab.research.google.com/assets/colab-badge.svg\" alt=\"Open In Colab\"/></a>"
      ]
    },
    {
      "cell_type": "code",
      "source": [
        "!nvidia-smi\n"
      ],
      "metadata": {
        "colab": {
          "base_uri": "https://localhost:8080/"
        },
        "id": "SFpGyqMaiEKX",
        "outputId": "e0bdf8c3-ec24-4aa1-928e-df12221ff0fa"
      },
      "execution_count": null,
      "outputs": [
        {
          "output_type": "stream",
          "name": "stdout",
          "text": [
            "/bin/bash: line 1: nvidia-smi: command not found\n"
          ]
        }
      ]
    },
    {
      "cell_type": "code",
      "source": [
        "!pip install -q torch torchvision opencv-python matplotlib seaborn albumentations grad-cam\n"
      ],
      "metadata": {
        "colab": {
          "base_uri": "https://localhost:8080/"
        },
        "id": "IqvGmByOiZO9",
        "outputId": "53792680-d0fc-4c3d-f419-88983b3b784e"
      },
      "execution_count": null,
      "outputs": [
        {
          "output_type": "stream",
          "name": "stdout",
          "text": [
            "\u001b[2K     \u001b[90m━━━━━━━━━━━━━━━━━━━━━━━━━━━━━━━━━━━━━━━━\u001b[0m \u001b[32m7.8/7.8 MB\u001b[0m \u001b[31m10.7 MB/s\u001b[0m eta \u001b[36m0:00:00\u001b[0m\n",
            "\u001b[?25h  Installing build dependencies ... \u001b[?25l\u001b[?25hdone\n",
            "  Getting requirements to build wheel ... \u001b[?25l\u001b[?25hdone\n",
            "  Preparing metadata (pyproject.toml) ... \u001b[?25l\u001b[?25hdone\n",
            "\u001b[2K   \u001b[90m━━━━━━━━━━━━━━━━━━━━━━━━━━━━━━━━━━━━━━━━\u001b[0m \u001b[32m363.4/363.4 MB\u001b[0m \u001b[31m4.7 MB/s\u001b[0m eta \u001b[36m0:00:00\u001b[0m\n",
            "\u001b[2K   \u001b[90m━━━━━━━━━━━━━━━━━━━━━━━━━━━━━━━━━━━━━━━━\u001b[0m \u001b[32m13.8/13.8 MB\u001b[0m \u001b[31m37.0 MB/s\u001b[0m eta \u001b[36m0:00:00\u001b[0m\n",
            "\u001b[2K   \u001b[90m━━━━━━━━━━━━━━━━━━━━━━━━━━━━━━━━━━━━━━━━\u001b[0m \u001b[32m24.6/24.6 MB\u001b[0m \u001b[31m34.8 MB/s\u001b[0m eta \u001b[36m0:00:00\u001b[0m\n",
            "\u001b[2K   \u001b[90m━━━━━━━━━━━━━━━━━━━━━━━━━━━━━━━━━━━━━━━━\u001b[0m \u001b[32m883.7/883.7 kB\u001b[0m \u001b[31m37.6 MB/s\u001b[0m eta \u001b[36m0:00:00\u001b[0m\n",
            "\u001b[2K   \u001b[90m━━━━━━━━━━━━━━━━━━━━━━━━━━━━━━━━━━━━━━━━\u001b[0m \u001b[32m664.8/664.8 MB\u001b[0m \u001b[31m1.3 MB/s\u001b[0m eta \u001b[36m0:00:00\u001b[0m\n",
            "\u001b[2K   \u001b[90m━━━━━━━━━━━━━━━━━━━━━━━━━━━━━━━━━━━━━━━━\u001b[0m \u001b[32m211.5/211.5 MB\u001b[0m \u001b[31m5.0 MB/s\u001b[0m eta \u001b[36m0:00:00\u001b[0m\n",
            "\u001b[2K   \u001b[90m━━━━━━━━━━━━━━━━━━━━━━━━━━━━━━━━━━━━━━━━\u001b[0m \u001b[32m56.3/56.3 MB\u001b[0m \u001b[31m11.4 MB/s\u001b[0m eta \u001b[36m0:00:00\u001b[0m\n",
            "\u001b[2K   \u001b[90m━━━━━━━━━━━━━━━━━━━━━━━━━━━━━━━━━━━━━━━━\u001b[0m \u001b[32m127.9/127.9 MB\u001b[0m \u001b[31m8.9 MB/s\u001b[0m eta \u001b[36m0:00:00\u001b[0m\n",
            "\u001b[2K   \u001b[90m━━━━━━━━━━━━━━━━━━━━━━━━━━━━━━━━━━━━━━━━\u001b[0m \u001b[32m207.5/207.5 MB\u001b[0m \u001b[31m5.2 MB/s\u001b[0m eta \u001b[36m0:00:00\u001b[0m\n",
            "\u001b[2K   \u001b[90m━━━━━━━━━━━━━━━━━━━━━━━━━━━━━━━━━━━━━━━━\u001b[0m \u001b[32m21.1/21.1 MB\u001b[0m \u001b[31m35.3 MB/s\u001b[0m eta \u001b[36m0:00:00\u001b[0m\n",
            "\u001b[?25h  Building wheel for grad-cam (pyproject.toml) ... \u001b[?25l\u001b[?25hdone\n"
          ]
        }
      ]
    },
    {
      "cell_type": "code",
      "source": [
        "from google.colab import files\n",
        "uploaded = files.upload()\n"
      ],
      "metadata": {
        "colab": {
          "base_uri": "https://localhost:8080/",
          "height": 73
        },
        "id": "h4lAqDRQjfzM",
        "outputId": "28873ae2-c358-410c-c8e7-5446f7928992"
      },
      "execution_count": null,
      "outputs": [
        {
          "output_type": "display_data",
          "data": {
            "text/plain": [
              "<IPython.core.display.HTML object>"
            ],
            "text/html": [
              "\n",
              "     <input type=\"file\" id=\"files-7b6e9840-cef2-4673-bed6-802677074ae0\" name=\"files[]\" multiple disabled\n",
              "        style=\"border:none\" />\n",
              "     <output id=\"result-7b6e9840-cef2-4673-bed6-802677074ae0\">\n",
              "      Upload widget is only available when the cell has been executed in the\n",
              "      current browser session. Please rerun this cell to enable.\n",
              "      </output>\n",
              "      <script>// Copyright 2017 Google LLC\n",
              "//\n",
              "// Licensed under the Apache License, Version 2.0 (the \"License\");\n",
              "// you may not use this file except in compliance with the License.\n",
              "// You may obtain a copy of the License at\n",
              "//\n",
              "//      http://www.apache.org/licenses/LICENSE-2.0\n",
              "//\n",
              "// Unless required by applicable law or agreed to in writing, software\n",
              "// distributed under the License is distributed on an \"AS IS\" BASIS,\n",
              "// WITHOUT WARRANTIES OR CONDITIONS OF ANY KIND, either express or implied.\n",
              "// See the License for the specific language governing permissions and\n",
              "// limitations under the License.\n",
              "\n",
              "/**\n",
              " * @fileoverview Helpers for google.colab Python module.\n",
              " */\n",
              "(function(scope) {\n",
              "function span(text, styleAttributes = {}) {\n",
              "  const element = document.createElement('span');\n",
              "  element.textContent = text;\n",
              "  for (const key of Object.keys(styleAttributes)) {\n",
              "    element.style[key] = styleAttributes[key];\n",
              "  }\n",
              "  return element;\n",
              "}\n",
              "\n",
              "// Max number of bytes which will be uploaded at a time.\n",
              "const MAX_PAYLOAD_SIZE = 100 * 1024;\n",
              "\n",
              "function _uploadFiles(inputId, outputId) {\n",
              "  const steps = uploadFilesStep(inputId, outputId);\n",
              "  const outputElement = document.getElementById(outputId);\n",
              "  // Cache steps on the outputElement to make it available for the next call\n",
              "  // to uploadFilesContinue from Python.\n",
              "  outputElement.steps = steps;\n",
              "\n",
              "  return _uploadFilesContinue(outputId);\n",
              "}\n",
              "\n",
              "// This is roughly an async generator (not supported in the browser yet),\n",
              "// where there are multiple asynchronous steps and the Python side is going\n",
              "// to poll for completion of each step.\n",
              "// This uses a Promise to block the python side on completion of each step,\n",
              "// then passes the result of the previous step as the input to the next step.\n",
              "function _uploadFilesContinue(outputId) {\n",
              "  const outputElement = document.getElementById(outputId);\n",
              "  const steps = outputElement.steps;\n",
              "\n",
              "  const next = steps.next(outputElement.lastPromiseValue);\n",
              "  return Promise.resolve(next.value.promise).then((value) => {\n",
              "    // Cache the last promise value to make it available to the next\n",
              "    // step of the generator.\n",
              "    outputElement.lastPromiseValue = value;\n",
              "    return next.value.response;\n",
              "  });\n",
              "}\n",
              "\n",
              "/**\n",
              " * Generator function which is called between each async step of the upload\n",
              " * process.\n",
              " * @param {string} inputId Element ID of the input file picker element.\n",
              " * @param {string} outputId Element ID of the output display.\n",
              " * @return {!Iterable<!Object>} Iterable of next steps.\n",
              " */\n",
              "function* uploadFilesStep(inputId, outputId) {\n",
              "  const inputElement = document.getElementById(inputId);\n",
              "  inputElement.disabled = false;\n",
              "\n",
              "  const outputElement = document.getElementById(outputId);\n",
              "  outputElement.innerHTML = '';\n",
              "\n",
              "  const pickedPromise = new Promise((resolve) => {\n",
              "    inputElement.addEventListener('change', (e) => {\n",
              "      resolve(e.target.files);\n",
              "    });\n",
              "  });\n",
              "\n",
              "  const cancel = document.createElement('button');\n",
              "  inputElement.parentElement.appendChild(cancel);\n",
              "  cancel.textContent = 'Cancel upload';\n",
              "  const cancelPromise = new Promise((resolve) => {\n",
              "    cancel.onclick = () => {\n",
              "      resolve(null);\n",
              "    };\n",
              "  });\n",
              "\n",
              "  // Wait for the user to pick the files.\n",
              "  const files = yield {\n",
              "    promise: Promise.race([pickedPromise, cancelPromise]),\n",
              "    response: {\n",
              "      action: 'starting',\n",
              "    }\n",
              "  };\n",
              "\n",
              "  cancel.remove();\n",
              "\n",
              "  // Disable the input element since further picks are not allowed.\n",
              "  inputElement.disabled = true;\n",
              "\n",
              "  if (!files) {\n",
              "    return {\n",
              "      response: {\n",
              "        action: 'complete',\n",
              "      }\n",
              "    };\n",
              "  }\n",
              "\n",
              "  for (const file of files) {\n",
              "    const li = document.createElement('li');\n",
              "    li.append(span(file.name, {fontWeight: 'bold'}));\n",
              "    li.append(span(\n",
              "        `(${file.type || 'n/a'}) - ${file.size} bytes, ` +\n",
              "        `last modified: ${\n",
              "            file.lastModifiedDate ? file.lastModifiedDate.toLocaleDateString() :\n",
              "                                    'n/a'} - `));\n",
              "    const percent = span('0% done');\n",
              "    li.appendChild(percent);\n",
              "\n",
              "    outputElement.appendChild(li);\n",
              "\n",
              "    const fileDataPromise = new Promise((resolve) => {\n",
              "      const reader = new FileReader();\n",
              "      reader.onload = (e) => {\n",
              "        resolve(e.target.result);\n",
              "      };\n",
              "      reader.readAsArrayBuffer(file);\n",
              "    });\n",
              "    // Wait for the data to be ready.\n",
              "    let fileData = yield {\n",
              "      promise: fileDataPromise,\n",
              "      response: {\n",
              "        action: 'continue',\n",
              "      }\n",
              "    };\n",
              "\n",
              "    // Use a chunked sending to avoid message size limits. See b/62115660.\n",
              "    let position = 0;\n",
              "    do {\n",
              "      const length = Math.min(fileData.byteLength - position, MAX_PAYLOAD_SIZE);\n",
              "      const chunk = new Uint8Array(fileData, position, length);\n",
              "      position += length;\n",
              "\n",
              "      const base64 = btoa(String.fromCharCode.apply(null, chunk));\n",
              "      yield {\n",
              "        response: {\n",
              "          action: 'append',\n",
              "          file: file.name,\n",
              "          data: base64,\n",
              "        },\n",
              "      };\n",
              "\n",
              "      let percentDone = fileData.byteLength === 0 ?\n",
              "          100 :\n",
              "          Math.round((position / fileData.byteLength) * 100);\n",
              "      percent.textContent = `${percentDone}% done`;\n",
              "\n",
              "    } while (position < fileData.byteLength);\n",
              "  }\n",
              "\n",
              "  // All done.\n",
              "  yield {\n",
              "    response: {\n",
              "      action: 'complete',\n",
              "    }\n",
              "  };\n",
              "}\n",
              "\n",
              "scope.google = scope.google || {};\n",
              "scope.google.colab = scope.google.colab || {};\n",
              "scope.google.colab._files = {\n",
              "  _uploadFiles,\n",
              "  _uploadFilesContinue,\n",
              "};\n",
              "})(self);\n",
              "</script> "
            ]
          },
          "metadata": {}
        },
        {
          "output_type": "stream",
          "name": "stdout",
          "text": [
            "Saving alzheimer.zip to alzheimer.zip\n"
          ]
        }
      ]
    },
    {
      "cell_type": "code",
      "source": [
        "!unzip -q alzheimer.zip -d alzheimer_data\n"
      ],
      "metadata": {
        "id": "H6yfLFrHm7Bt"
      },
      "execution_count": null,
      "outputs": []
    },
    {
      "cell_type": "code",
      "source": [
        "import os\n",
        "\n",
        "base_path = 'alzheimer_data'\n",
        "for root, dirs, files in os.walk(base_path):\n",
        "    print(f\"📁 {root} → {len(files)} files\")\n",
        "    for d in dirs:\n",
        "        print(f\" ┗━ 📂 {d}\")\n",
        "    break  # Show only the top level\n"
      ],
      "metadata": {
        "colab": {
          "base_uri": "https://localhost:8080/"
        },
        "id": "GBoAkB_nodKi",
        "outputId": "4dd6bf6d-f8a8-429f-b6a0-fa5904aaac2f"
      },
      "execution_count": null,
      "outputs": [
        {
          "output_type": "stream",
          "name": "stdout",
          "text": [
            "📁 alzheimer_data → 0 files\n",
            " ┗━ 📂 Combined Dataset\n"
          ]
        }
      ]
    },
    {
      "cell_type": "code",
      "source": [
        "import os\n",
        "\n",
        "dataset_path = \"alzheimer_data/Combined Dataset\"\n",
        "class_folders = os.listdir(dataset_path)\n",
        "\n",
        "print(\"📂 Classes in dataset:\")\n",
        "for folder in class_folders:\n",
        "    print(\" ┗━\", folder)\n"
      ],
      "metadata": {
        "colab": {
          "base_uri": "https://localhost:8080/"
        },
        "id": "b3osSWwnoqVK",
        "outputId": "278525e1-bfc4-421d-ac64-bce24896e265"
      },
      "execution_count": null,
      "outputs": [
        {
          "output_type": "stream",
          "name": "stdout",
          "text": [
            "📂 Classes in dataset:\n",
            " ┗━ test\n",
            " ┗━ train\n"
          ]
        }
      ]
    },
    {
      "cell_type": "code",
      "source": [
        "import os\n",
        "\n",
        "train_path = \"alzheimer_data/Combined Dataset/train\"\n",
        "test_path = \"alzheimer_data/Combined Dataset/test\"\n",
        "\n",
        "print(\"🔍 Train Set Classes:\")\n",
        "for cls in os.listdir(train_path):\n",
        "    cls_path = os.path.join(train_path, cls)\n",
        "    num_images = len(os.listdir(cls_path))\n",
        "    print(f\" ┗━ {cls}: {num_images} images\")\n",
        "\n",
        "print(\"\\n🔍 Test Set Classes:\")\n",
        "for cls in os.listdir(test_path):\n",
        "    cls_path = os.path.join(test_path, cls)\n",
        "    num_images = len(os.listdir(cls_path))\n",
        "    print(f\" ┗━ {cls}: {num_images} images\")\n"
      ],
      "metadata": {
        "colab": {
          "base_uri": "https://localhost:8080/"
        },
        "id": "R5brZ1wJoyBl",
        "outputId": "0ff65859-a931-4a8d-c313-57b992a02ae5"
      },
      "execution_count": null,
      "outputs": [
        {
          "output_type": "stream",
          "name": "stdout",
          "text": [
            "🔍 Train Set Classes:\n",
            " ┗━ Mild Impairment: 2560 images\n",
            " ┗━ Very Mild Impairment: 2560 images\n",
            " ┗━ Moderate Impairment: 2560 images\n",
            " ┗━ No Impairment: 2560 images\n",
            "\n",
            "🔍 Test Set Classes:\n",
            " ┗━ Mild Impairment: 179 images\n",
            " ┗━ Very Mild Impairment: 448 images\n",
            " ┗━ Moderate Impairment: 12 images\n",
            " ┗━ No Impairment: 640 images\n"
          ]
        }
      ]
    },
    {
      "cell_type": "code",
      "source": [
        "!pip install torch torchvision torchaudio --quiet\n",
        "!pip install matplotlib seaborn scikit-learn grad-cam --quiet\n"
      ],
      "metadata": {
        "id": "C0PT1h_ro5g5"
      },
      "execution_count": null,
      "outputs": []
    },
    {
      "cell_type": "markdown",
      "source": [
        "Data Prepoccessing\n"
      ],
      "metadata": {
        "id": "6RP4ywBurHGN"
      }
    },
    {
      "cell_type": "code",
      "source": [
        "import torch\n",
        "from torchvision import datasets, transforms\n",
        "from torch.utils.data import DataLoader\n",
        "import matplotlib.pyplot as plt\n",
        "\n",
        "# Define directories\n",
        "train_dir = 'alzheimer_data/Combined Dataset/train'\n",
        "test_dir = 'alzheimer_data/Combined Dataset/test'\n",
        "\n",
        "# Define transforms\n",
        "train_transforms = transforms.Compose([\n",
        "    transforms.Resize((224, 224)),\n",
        "    transforms.RandomHorizontalFlip(),\n",
        "    transforms.RandomRotation(10),\n",
        "    transforms.ToTensor(),\n",
        "    transforms.Normalize([0.485, 0.456, 0.406],\n",
        "                         [0.229, 0.224, 0.225])\n",
        "])\n",
        "\n",
        "test_transforms = transforms.Compose([\n",
        "    transforms.Resize((224, 224)),\n",
        "    transforms.ToTensor(),\n",
        "    transforms.Normalize([0.485, 0.456, 0.406],\n",
        "                         [0.229, 0.224, 0.225])\n",
        "])\n",
        "\n",
        "# Load datasets\n",
        "train_dataset = datasets.ImageFolder(train_dir, transform=train_transforms)\n",
        "test_dataset = datasets.ImageFolder(test_dir, transform=test_transforms)\n",
        "\n",
        "# Define DataLoaders\n",
        "train_loader = DataLoader(train_dataset, batch_size=32, shuffle=True, num_workers=2)\n",
        "test_loader = DataLoader(test_dataset, batch_size=32, shuffle=False, num_workers=2)\n",
        "\n",
        "# Class names\n",
        "class_names = train_dataset.classes\n",
        "print(f\"✅ Found classes: {class_names}\")\n"
      ],
      "metadata": {
        "colab": {
          "base_uri": "https://localhost:8080/"
        },
        "id": "iE3G6oE7pXWl",
        "outputId": "e543c63e-bace-412c-ed3a-7e78daf5e97d"
      },
      "execution_count": null,
      "outputs": [
        {
          "output_type": "stream",
          "name": "stdout",
          "text": [
            "✅ Found classes: ['Mild Impairment', 'Moderate Impairment', 'No Impairment', 'Very Mild Impairment']\n"
          ]
        }
      ]
    },
    {
      "cell_type": "code",
      "source": [],
      "metadata": {
        "id": "vzjzbNkPqvUb"
      },
      "execution_count": null,
      "outputs": []
    },
    {
      "cell_type": "markdown",
      "source": [
        "# Transfer Learning Model (ResNet18)\n",
        "\n",
        "\n",
        "1.   Load ResNet18 pretrained on ImageNet\n",
        "\n",
        "2.   Replace the classifier head to fit 4 output classes\n",
        "\n",
        "3.   Use CrossEntropyLoss with weighted class balancing\n",
        "4. Use Adam optimizer\n",
        "\n",
        "\n",
        "\n",
        "\n",
        "\n",
        "\n"
      ],
      "metadata": {
        "id": "totAifYorNEm"
      }
    },
    {
      "cell_type": "code",
      "source": [
        "import torch.nn as nn\n",
        "import torchvision.models as models\n",
        "from sklearn.utils.class_weight import compute_class_weight\n",
        "import numpy as np\n",
        "\n",
        "# Use GPU if available\n",
        "device = torch.device(\"cuda\" if torch.cuda.is_available() else \"cpu\")\n",
        "print(\"Using device:\", device)\n",
        "\n",
        "# Load ResNet18\n",
        "model = models.resnet18(pretrained=True)\n",
        "\n",
        "# Freeze earlier layers (optional for speed)\n",
        "for param in model.parameters():\n",
        "    param.requires_grad = False\n",
        "\n",
        "# Replace classifier head\n",
        "num_features = model.fc.in_features\n",
        "model.fc = nn.Linear(num_features, 4)\n",
        "model = model.to(device)\n",
        "\n",
        "# Compute class weights to handle imbalance\n",
        "targets = [label for _, label in train_dataset.samples]\n",
        "class_weights = compute_class_weight(class_weight='balanced',\n",
        "                                     classes=np.unique(targets),\n",
        "                                     y=targets)\n",
        "class_weights = torch.tensor(class_weights, dtype=torch.float).to(device)\n",
        "\n",
        "# Loss function and optimizer\n",
        "criterion = nn.CrossEntropyLoss(weight=class_weights)\n",
        "optimizer = torch.optim.Adam(model.fc.parameters(), lr=1e-4)\n"
      ],
      "metadata": {
        "colab": {
          "base_uri": "https://localhost:8080/"
        },
        "id": "ARiiwx7zr48m",
        "outputId": "0363ea4a-cccf-4b1d-ca16-a1707cb2308f"
      },
      "execution_count": null,
      "outputs": [
        {
          "output_type": "stream",
          "name": "stdout",
          "text": [
            "Using device: cuda\n"
          ]
        },
        {
          "output_type": "stream",
          "name": "stderr",
          "text": [
            "/usr/local/lib/python3.11/dist-packages/torchvision/models/_utils.py:208: UserWarning: The parameter 'pretrained' is deprecated since 0.13 and may be removed in the future, please use 'weights' instead.\n",
            "  warnings.warn(\n",
            "/usr/local/lib/python3.11/dist-packages/torchvision/models/_utils.py:223: UserWarning: Arguments other than a weight enum or `None` for 'weights' are deprecated since 0.13 and may be removed in the future. The current behavior is equivalent to passing `weights=ResNet18_Weights.IMAGENET1K_V1`. You can also use `weights=ResNet18_Weights.DEFAULT` to get the most up-to-date weights.\n",
            "  warnings.warn(msg)\n",
            "Downloading: \"https://download.pytorch.org/models/resnet18-f37072fd.pth\" to /root/.cache/torch/hub/checkpoints/resnet18-f37072fd.pth\n",
            "100%|██████████| 44.7M/44.7M [00:00<00:00, 178MB/s]\n"
          ]
        }
      ]
    },
    {
      "cell_type": "markdown",
      "source": [
        "\n",
        "#Model Building"
      ],
      "metadata": {
        "id": "tcfooFHHdrqM"
      }
    },
    {
      "cell_type": "code",
      "source": [
        "import os\n",
        "import random\n",
        "import numpy as np\n",
        "import torch\n",
        "import torchvision\n",
        "from torchvision import transforms, models\n",
        "from torch.utils.data import DataLoader\n",
        "from torchvision.datasets import ImageFolder\n",
        "from torch import nn, optim\n",
        "import matplotlib.pyplot as plt\n",
        "from tqdm import tqdm\n",
        "\n",
        "# Reproducibility\n",
        "def seed_everything(seed=42):\n",
        "    random.seed(seed)\n",
        "    np.random.seed(seed)\n",
        "    torch.manual_seed(seed)\n",
        "    torch.cuda.manual_seed_all(seed)\n",
        "\n",
        "seed_everything()\n",
        "\n",
        "# Check device\n",
        "device = torch.device(\"cuda\" if torch.cuda.is_available() else \"cpu\")\n",
        "print(\"Using device:\", device)\n"
      ],
      "metadata": {
        "id": "qGuSMfPsr76e",
        "colab": {
          "base_uri": "https://localhost:8080/"
        },
        "outputId": "2df84199-9c81-4068-c504-13b51dae40b1"
      },
      "execution_count": null,
      "outputs": [
        {
          "output_type": "stream",
          "name": "stdout",
          "text": [
            "Using device: cuda\n"
          ]
        }
      ]
    },
    {
      "cell_type": "markdown",
      "source": [
        "##Define Transformations and Load Data"
      ],
      "metadata": {
        "id": "XBwV5JfLoJSy"
      }
    },
    {
      "cell_type": "code",
      "source": [
        "# Image size for ResNet\n",
        "IMAGE_SIZE = 224\n",
        "\n",
        "# Transformations\n",
        "train_transform = transforms.Compose([\n",
        "    transforms.Resize((IMAGE_SIZE, IMAGE_SIZE)),\n",
        "    transforms.RandomHorizontalFlip(),\n",
        "    transforms.RandomRotation(15),\n",
        "    transforms.ToTensor(),\n",
        "    transforms.Normalize(mean=[0.485, 0.456, 0.406],\n",
        "                         std=[0.229, 0.224, 0.225]),\n",
        "])\n",
        "\n",
        "test_transform = transforms.Compose([\n",
        "    transforms.Resize((IMAGE_SIZE, IMAGE_SIZE)),\n",
        "    transforms.ToTensor(),\n",
        "    transforms.Normalize(mean=[0.485, 0.456, 0.406],\n",
        "                         std=[0.229, 0.224, 0.225]),\n",
        "])\n",
        "\n",
        "# Path Setup\n",
        "train_dir = \"/content/alzheimer_data/Combined Dataset/train\"\n",
        "test_dir = \"/content/alzheimer_data/Combined Dataset/test\"\n",
        "\n",
        "# Load Dataset\n",
        "train_dataset = ImageFolder(root=train_dir, transform=train_transform)\n",
        "test_dataset = ImageFolder(root=test_dir, transform=test_transform)\n",
        "\n",
        "# Dataloaders\n",
        "BATCH_SIZE = 32\n",
        "\n",
        "train_loader = DataLoader(train_dataset, batch_size=BATCH_SIZE, shuffle=True)\n",
        "test_loader = DataLoader(test_dataset, batch_size=BATCH_SIZE, shuffle=False)\n",
        "\n",
        "# Class labels\n",
        "class_names = train_dataset.classes\n",
        "print(\"Classes:\", class_names)\n"
      ],
      "metadata": {
        "colab": {
          "base_uri": "https://localhost:8080/"
        },
        "id": "rPONJiqvgXXg",
        "outputId": "73714ddc-39bb-4ca0-9a25-45ae861a6b07"
      },
      "execution_count": null,
      "outputs": [
        {
          "output_type": "stream",
          "name": "stdout",
          "text": [
            "Classes: ['Mild Impairment', 'Moderate Impairment', 'No Impairment', 'Very Mild Impairment']\n"
          ]
        }
      ]
    },
    {
      "cell_type": "markdown",
      "source": [
        "##Load Pretrained ResNet18 and Modify for 4 Classes"
      ],
      "metadata": {
        "id": "mY2LafXVoQyB"
      }
    },
    {
      "cell_type": "code",
      "source": [
        "# Load pretrained ResNet18\n",
        "model = models.resnet18(weights=models.ResNet18_Weights.DEFAULT)\n",
        "\n",
        "# Freeze feature extractor (optional — we’ll train only the last layer first)\n",
        "for param in model.parameters():\n",
        "    param.requires_grad = False\n",
        "\n",
        "# Replace the final fully connected layer\n",
        "num_ftrs = model.fc.in_features\n",
        "model.fc = nn.Sequential(\n",
        "    nn.Linear(num_ftrs, 256),\n",
        "    nn.ReLU(),\n",
        "    nn.Dropout(0.4),\n",
        "    nn.Linear(256, 4)  # 4 classes\n",
        ")\n",
        "\n",
        "model = model.to(device)\n"
      ],
      "metadata": {
        "id": "u3wgas6rgcDJ"
      },
      "execution_count": null,
      "outputs": []
    },
    {
      "cell_type": "markdown",
      "source": [
        "##Define Loss, Optimizer, and Scheduler"
      ],
      "metadata": {
        "id": "JJWJQwMooWHG"
      }
    },
    {
      "cell_type": "code",
      "source": [
        "# Loss function\n",
        "criterion = nn.CrossEntropyLoss()\n",
        "\n",
        "# Only train the new classifier layers\n",
        "optimizer = optim.Adam(model.fc.parameters(), lr=0.001)\n",
        "\n",
        "# Learning rate scheduler\n",
        "scheduler = optim.lr_scheduler.StepLR(optimizer, step_size=5, gamma=0.1)\n"
      ],
      "metadata": {
        "id": "ItnsLp7wg2UC"
      },
      "execution_count": null,
      "outputs": []
    },
    {
      "cell_type": "markdown",
      "source": [
        "##Model Training Loop"
      ],
      "metadata": {
        "id": "XQqOtwVqocBD"
      }
    },
    {
      "cell_type": "code",
      "source": [
        "def train_model(model, criterion, optimizer, scheduler, dataloaders, num_epochs=10):\n",
        "    best_model_wts = model.state_dict()\n",
        "    best_acc = 0.0\n",
        "\n",
        "    for epoch in range(num_epochs):\n",
        "        print(f\"\\n📅 Epoch {epoch+1}/{num_epochs}\")\n",
        "        print(\"-\" * 30)\n",
        "\n",
        "        for phase in ['train', 'val']:\n",
        "            if phase == 'train':\n",
        "                model.train()  # Set model to training mode\n",
        "            else:\n",
        "                model.eval()   # Set model to eval mode\n",
        "\n",
        "            running_loss = 0.0\n",
        "            running_corrects = 0\n",
        "\n",
        "            for inputs, labels in dataloaders[phase]:\n",
        "                inputs = inputs.to(device)\n",
        "                labels = labels.to(device)\n",
        "\n",
        "                optimizer.zero_grad()\n",
        "\n",
        "                with torch.set_grad_enabled(phase == 'train'):\n",
        "                    outputs = model(inputs)\n",
        "                    _, preds = torch.max(outputs, 1)\n",
        "                    loss = criterion(outputs, labels)\n",
        "\n",
        "                    if phase == 'train':\n",
        "                        loss.backward()\n",
        "                        optimizer.step()\n",
        "\n",
        "                running_loss += loss.item() * inputs.size(0)\n",
        "                running_corrects += torch.sum(preds == labels.data)\n",
        "\n",
        "            if phase == 'train':\n",
        "                scheduler.step()\n",
        "\n",
        "            epoch_loss = running_loss / len(dataloaders[phase].dataset)\n",
        "            epoch_acc = running_corrects.double() / len(dataloaders[phase].dataset)\n",
        "\n",
        "            print(f\"{phase.upper()} LOSS: {epoch_loss:.4f} | ACC: {epoch_acc:.4f}\")\n",
        "\n",
        "            # Save best model\n",
        "            if phase == 'val' and epoch_acc > best_acc:\n",
        "                best_acc = epoch_acc\n",
        "                best_model_wts = model.state_dict()\n",
        "\n",
        "    print(f\"\\n✅ Best VAL ACC: {best_acc:.4f}\")\n",
        "    model.load_state_dict(best_model_wts)\n",
        "    return model\n"
      ],
      "metadata": {
        "id": "lnDl0lBfg5i-"
      },
      "execution_count": null,
      "outputs": []
    },
    {
      "cell_type": "markdown",
      "source": [
        "##Dataloader"
      ],
      "metadata": {
        "id": "adDrvFYAoiNH"
      }
    },
    {
      "cell_type": "code",
      "source": [
        "from torchvision import transforms, datasets\n",
        "from torch.utils.data import DataLoader, random_split\n",
        "\n",
        "class AlzheimerDataset(Dataset):\n",
        "    def __init__(self, image_folder_dataset, transform=None):\n",
        "        self.dataset = image_folder_dataset\n",
        "        self.transform = transform\n",
        "\n",
        "    def __len__(self):\n",
        "        return len(self.dataset)\n",
        "\n",
        "    def __getitem__(self, idx):\n",
        "        image, label = self.dataset[idx]\n",
        "        image = np.array(image)  # Convert PIL to numpy\n",
        "        if self.transform:\n",
        "            augmented = self.transform(image=image)  # pass as keyword argument\n",
        "            image = augmented['image']\n",
        "        return image, label\n",
        "\n",
        "\n",
        "# 📌 Image Transformations\n",
        "import albumentations as A\n",
        "from albumentations.pytorch import ToTensorV2\n",
        "\n",
        "image_transforms = {\n",
        "    'train': A.Compose([\n",
        "        A.Resize(224, 224),\n",
        "        A.HorizontalFlip(p=0.5),\n",
        "        A.Rotate(limit=10),\n",
        "        A.Normalize(mean=(0.485, 0.456, 0.406),\n",
        "                    std=(0.229, 0.224, 0.225)),\n",
        "        ToTensorV2()\n",
        "    ]),\n",
        "    'val': A.Compose([\n",
        "        A.Resize(224, 224),\n",
        "        A.Normalize(mean=(0.485, 0.456, 0.406),\n",
        "                    std=(0.229, 0.224, 0.225)),\n",
        "        ToTensorV2()\n",
        "    ])\n",
        "}\n",
        "\n",
        "\n",
        "# 📁 Dataset Path\n",
        "train_dir = '/content/alzheimer_data/Combined Dataset/train'\n",
        "\n",
        "# 📌 Load Full Dataset (split later)\n",
        "full_dataset = datasets.ImageFolder(train_dir, transform=image_transforms['train'])\n",
        "\n",
        "# 🔀 Split into Train and Val (80-20)\n",
        "train_size = int(0.8 * len(full_dataset))\n",
        "val_size = len(full_dataset) - train_size\n",
        "train_dataset, val_dataset = random_split(full_dataset, [train_size, val_size])\n",
        "\n",
        "# Apply val transforms to val split\n",
        "val_dataset.dataset.transform = image_transforms['val']\n",
        "\n",
        "# ✅ Create Dataloaders\n",
        "dataloaders = {\n",
        "    'train': DataLoader(train_dataset, batch_size=32, shuffle=True, num_workers=2),\n",
        "    'val': DataLoader(val_dataset, batch_size=32, shuffle=False, num_workers=2)\n",
        "}\n",
        "\n",
        "# 🔍 Class names (for future use)\n",
        "class_names = full_dataset.classes\n"
      ],
      "metadata": {
        "id": "caV3Ok6FhCAi"
      },
      "execution_count": null,
      "outputs": []
    },
    {
      "cell_type": "code",
      "source": [
        "trained_model = train_model(model, criterion, optimizer, scheduler, dataloaders, num_epochs=10)\n"
      ],
      "metadata": {
        "colab": {
          "base_uri": "https://localhost:8080/"
        },
        "id": "iGhtFd5JhG2B",
        "outputId": "7be675b5-8dc7-4e1f-e20a-8879280bdeaf"
      },
      "execution_count": null,
      "outputs": [
        {
          "output_type": "stream",
          "name": "stdout",
          "text": [
            "\n",
            "📅 Epoch 1/10\n",
            "------------------------------\n",
            "TRAIN LOSS: 0.7734 | ACC: 0.6691\n",
            "VAL LOSS: 0.5374 | ACC: 0.7705\n",
            "\n",
            "📅 Epoch 2/10\n",
            "------------------------------\n",
            "TRAIN LOSS: 0.5980 | ACC: 0.7390\n",
            "VAL LOSS: 0.4892 | ACC: 0.7798\n",
            "\n",
            "📅 Epoch 3/10\n",
            "------------------------------\n",
            "TRAIN LOSS: 0.5586 | ACC: 0.7510\n",
            "VAL LOSS: 0.5202 | ACC: 0.7681\n",
            "\n",
            "📅 Epoch 4/10\n",
            "------------------------------\n",
            "TRAIN LOSS: 0.5204 | ACC: 0.7714\n",
            "VAL LOSS: 0.4516 | ACC: 0.7959\n",
            "\n",
            "📅 Epoch 5/10\n",
            "------------------------------\n",
            "TRAIN LOSS: 0.5093 | ACC: 0.7689\n",
            "VAL LOSS: 0.4393 | ACC: 0.8062\n",
            "\n",
            "📅 Epoch 6/10\n",
            "------------------------------\n",
            "TRAIN LOSS: 0.4584 | ACC: 0.7933\n",
            "VAL LOSS: 0.4248 | ACC: 0.8013\n",
            "\n",
            "📅 Epoch 7/10\n",
            "------------------------------\n",
            "TRAIN LOSS: 0.4435 | ACC: 0.8009\n",
            "VAL LOSS: 0.4195 | ACC: 0.8086\n",
            "\n",
            "📅 Epoch 8/10\n",
            "------------------------------\n",
            "TRAIN LOSS: 0.4398 | ACC: 0.8041\n",
            "VAL LOSS: 0.4209 | ACC: 0.8018\n",
            "\n",
            "📅 Epoch 9/10\n",
            "------------------------------\n",
            "TRAIN LOSS: 0.4378 | ACC: 0.8063\n",
            "VAL LOSS: 0.4150 | ACC: 0.8105\n",
            "\n",
            "📅 Epoch 10/10\n",
            "------------------------------\n",
            "TRAIN LOSS: 0.4354 | ACC: 0.8049\n",
            "VAL LOSS: 0.4141 | ACC: 0.8096\n",
            "\n",
            "✅ Best VAL ACC: 0.8105\n"
          ]
        }
      ]
    },
    {
      "cell_type": "markdown",
      "source": [
        "## Unfreeze Entire Model for Training"
      ],
      "metadata": {
        "id": "rB7fe9G6o3zJ"
      }
    },
    {
      "cell_type": "code",
      "source": [
        "# Unfreeze all layers\n",
        "for param in model.parameters():\n",
        "    param.requires_grad = True\n",
        "\n",
        "# Redefine optimizer to train all parameters with a smaller learning rate\n",
        "optimizer = optim.Adam(model.parameters(), lr=1e-4)\n"
      ],
      "metadata": {
        "id": "HMVfyHb0hcLU"
      },
      "execution_count": null,
      "outputs": []
    },
    {
      "cell_type": "code",
      "source": [
        "!pip install albumentations --quiet\n"
      ],
      "metadata": {
        "id": "9cp-YWWpi2Yl"
      },
      "execution_count": null,
      "outputs": []
    },
    {
      "cell_type": "markdown",
      "source": [
        "##Use Albumentations for Advanced Augmentation"
      ],
      "metadata": {
        "id": "yx-P6JxBpPmu"
      }
    },
    {
      "cell_type": "code",
      "source": [
        "import albumentations as A\n",
        "from albumentations.pytorch import ToTensorV2\n",
        "\n",
        "train_transform = A.Compose([\n",
        "    A.Resize(224, 224),\n",
        "    A.HorizontalFlip(p=0.5),\n",
        "    A.Rotate(limit=30, p=0.7),\n",
        "    A.ElasticTransform(alpha=1, sigma=50, alpha_affine=50, p=0.3),\n",
        "    A.RandomBrightnessContrast(p=0.3),\n",
        "    A.Normalize(mean=(0.485, 0.456, 0.406),\n",
        "                std=(0.229, 0.224, 0.225)),\n",
        "    ToTensorV2()\n",
        "])\n",
        "\n",
        "val_transform = A.Compose([\n",
        "    A.Resize(224, 224),\n",
        "    A.Normalize(mean=(0.485, 0.456, 0.406),\n",
        "                std=(0.229, 0.224, 0.225)),\n",
        "    ToTensorV2()\n",
        "])\n"
      ],
      "metadata": {
        "colab": {
          "base_uri": "https://localhost:8080/"
        },
        "id": "0DX-MExDi5Co",
        "outputId": "97b51d0e-856f-40f8-9125-224da4ba5a41"
      },
      "execution_count": null,
      "outputs": [
        {
          "output_type": "stream",
          "name": "stderr",
          "text": [
            "/tmp/ipython-input-3381054220.py:8: UserWarning: Argument(s) 'alpha_affine' are not valid for transform ElasticTransform\n",
            "  A.ElasticTransform(alpha=1, sigma=50, alpha_affine=50, p=0.3),\n"
          ]
        }
      ]
    },
    {
      "cell_type": "markdown",
      "source": [
        "##Update Dataset and Dataloaders to Use Albumentations"
      ],
      "metadata": {
        "id": "9LRFfCnjpYW6"
      }
    },
    {
      "cell_type": "code",
      "source": [
        "from torch.utils.data import Dataset\n",
        "from PIL import Image\n",
        "\n",
        "class AlzheimerDataset(Dataset):\n",
        "    def __init__(self, image_folder_dataset, transform=None):\n",
        "        self.dataset = image_folder_dataset\n",
        "        self.transform = transform\n",
        "\n",
        "    def __len__(self):\n",
        "        return len(self.dataset)\n",
        "\n",
        "    def __getitem__(self, idx):\n",
        "        image, label = self.dataset[idx]\n",
        "        image = np.array(image)\n",
        "        if self.transform:\n",
        "            augmented = self.transform(image=image)\n",
        "            image = augmented['image']\n",
        "        return image, label\n"
      ],
      "metadata": {
        "id": "PYQVpqR8jCDm"
      },
      "execution_count": null,
      "outputs": []
    },
    {
      "cell_type": "code",
      "source": [
        "# Load base dataset without transforms\n",
        "full_dataset = datasets.ImageFolder(train_dir)\n",
        "\n",
        "# Split train/val as before\n",
        "train_size = int(0.8 * len(full_dataset))\n",
        "val_size = len(full_dataset) - train_size\n",
        "train_base, val_base = random_split(full_dataset, [train_size, val_size])\n",
        "\n",
        "# Wrap in custom dataset with albumentations\n",
        "train_dataset = AlzheimerDataset(train_base, transform=train_transform)\n",
        "val_dataset = AlzheimerDataset(val_base, transform=val_transform)\n",
        "\n",
        "# Dataloaders\n",
        "dataloaders = {\n",
        "    'train': DataLoader(train_dataset, batch_size=32, shuffle=True, num_workers=2),\n",
        "    'val': DataLoader(val_dataset, batch_size=32, shuffle=False, num_workers=2)\n",
        "}\n"
      ],
      "metadata": {
        "id": "vS08eLsdjIJ3"
      },
      "execution_count": null,
      "outputs": []
    },
    {
      "cell_type": "markdown",
      "source": [
        "##Retrain Model"
      ],
      "metadata": {
        "id": "9BZE6J82pfbS"
      }
    },
    {
      "cell_type": "code",
      "source": [
        "trained_model = train_model(model, criterion, optimizer, scheduler, dataloaders, num_epochs=15)\n"
      ],
      "metadata": {
        "colab": {
          "base_uri": "https://localhost:8080/"
        },
        "id": "ba6yH3AojKsG",
        "outputId": "c900fe79-c8f4-47c1-ec53-80cb31b6c7d9"
      },
      "execution_count": null,
      "outputs": [
        {
          "output_type": "stream",
          "name": "stdout",
          "text": [
            "\n",
            "📅 Epoch 1/15\n",
            "------------------------------\n",
            "TRAIN LOSS: 0.0876 | ACC: 0.9683\n",
            "VAL LOSS: 0.1101 | ACC: 0.9556\n",
            "\n",
            "📅 Epoch 2/15\n",
            "------------------------------\n",
            "TRAIN LOSS: 0.0974 | ACC: 0.9647\n",
            "VAL LOSS: 0.0277 | ACC: 0.9902\n",
            "\n",
            "📅 Epoch 3/15\n",
            "------------------------------\n",
            "TRAIN LOSS: 0.0693 | ACC: 0.9735\n",
            "VAL LOSS: 0.0349 | ACC: 0.9863\n",
            "\n",
            "📅 Epoch 4/15\n",
            "------------------------------\n",
            "TRAIN LOSS: 0.0713 | ACC: 0.9760\n",
            "VAL LOSS: 0.0441 | ACC: 0.9854\n",
            "\n",
            "📅 Epoch 5/15\n",
            "------------------------------\n",
            "TRAIN LOSS: 0.0580 | ACC: 0.9792\n",
            "VAL LOSS: 0.0243 | ACC: 0.9917\n",
            "\n",
            "📅 Epoch 6/15\n",
            "------------------------------\n",
            "TRAIN LOSS: 0.0531 | ACC: 0.9822\n",
            "VAL LOSS: 0.0709 | ACC: 0.9717\n",
            "\n",
            "📅 Epoch 7/15\n",
            "------------------------------\n",
            "TRAIN LOSS: 0.0668 | ACC: 0.9764\n",
            "VAL LOSS: 0.0303 | ACC: 0.9902\n",
            "\n",
            "📅 Epoch 8/15\n",
            "------------------------------\n",
            "TRAIN LOSS: 0.0512 | ACC: 0.9822\n",
            "VAL LOSS: 0.0178 | ACC: 0.9937\n",
            "\n",
            "📅 Epoch 9/15\n",
            "------------------------------\n",
            "TRAIN LOSS: 0.0517 | ACC: 0.9817\n",
            "VAL LOSS: 0.0194 | ACC: 0.9946\n",
            "\n",
            "📅 Epoch 10/15\n",
            "------------------------------\n",
            "TRAIN LOSS: 0.0382 | ACC: 0.9867\n",
            "VAL LOSS: 0.0192 | ACC: 0.9937\n",
            "\n",
            "📅 Epoch 11/15\n",
            "------------------------------\n",
            "TRAIN LOSS: 0.0615 | ACC: 0.9788\n",
            "VAL LOSS: 0.0326 | ACC: 0.9858\n",
            "\n",
            "📅 Epoch 12/15\n",
            "------------------------------\n",
            "TRAIN LOSS: 0.0387 | ACC: 0.9856\n",
            "VAL LOSS: 0.0340 | ACC: 0.9863\n",
            "\n",
            "📅 Epoch 13/15\n",
            "------------------------------\n",
            "TRAIN LOSS: 0.0433 | ACC: 0.9852\n",
            "VAL LOSS: 0.0243 | ACC: 0.9917\n",
            "\n",
            "📅 Epoch 14/15\n",
            "------------------------------\n",
            "TRAIN LOSS: 0.0465 | ACC: 0.9829\n",
            "VAL LOSS: 0.0165 | ACC: 0.9951\n",
            "\n",
            "📅 Epoch 15/15\n",
            "------------------------------\n",
            "TRAIN LOSS: 0.0447 | ACC: 0.9843\n",
            "VAL LOSS: 0.0235 | ACC: 0.9932\n",
            "\n",
            "✅ Best VAL ACC: 0.9951\n"
          ]
        }
      ]
    },
    {
      "cell_type": "code",
      "source": [
        "test_base = datasets.ImageFolder(test_dir)  # No transform here\n",
        "test_dataset = AlzheimerDataset(test_base, transform=image_transforms['val'])\n",
        "test_loader = DataLoader(test_dataset, batch_size=32, shuffle=False, num_workers=2)\n"
      ],
      "metadata": {
        "id": "CEW2GU4Xp9IK"
      },
      "execution_count": null,
      "outputs": []
    },
    {
      "cell_type": "code",
      "source": [
        "trained_model.eval()\n",
        "all_preds = []\n",
        "all_labels = []\n",
        "\n",
        "with torch.no_grad():\n",
        "    for inputs, labels in test_loader:\n",
        "        inputs, labels = inputs.to(device), labels.to(device)\n",
        "        outputs = trained_model(inputs)\n",
        "        _, preds = torch.max(outputs, 1)\n",
        "        all_preds.extend(preds.cpu().numpy())\n",
        "        all_labels.extend(labels.cpu().numpy())\n"
      ],
      "metadata": {
        "id": "cBGDLiW3rXWY"
      },
      "execution_count": null,
      "outputs": []
    },
    {
      "cell_type": "code",
      "source": [
        "from torchvision import datasets\n",
        "from torch.utils.data import DataLoader\n",
        "\n",
        "# 1. 📁 Load base test dataset WITHOUT transforms\n",
        "test_dir = '/content/alzheimer_data/Combined Dataset/test'\n",
        "test_base = datasets.ImageFolder(test_dir)  # ⚠️ No transform here\n",
        "\n",
        "# 2. 🧠 Wrap in custom AlzheimerDataset to apply Albumentations\n",
        "test_dataset = AlzheimerDataset(test_base, transform=val_transform)\n",
        "\n",
        "# 3. 🌀 Create DataLoader\n",
        "test_loader = DataLoader(test_dataset, batch_size=32, shuffle=False, num_workers=2)\n"
      ],
      "metadata": {
        "id": "qySWxrfGs2gS"
      },
      "execution_count": null,
      "outputs": []
    },
    {
      "cell_type": "code",
      "source": [
        "from sklearn.metrics import classification_report, accuracy_score\n",
        "\n",
        "all_preds = []\n",
        "all_labels = []\n",
        "\n",
        "trained_model.eval()\n",
        "with torch.no_grad():\n",
        "    for inputs, labels in test_loader:\n",
        "        inputs, labels = inputs.to(device), labels.to(device)\n",
        "        outputs = trained_model(inputs)\n",
        "        _, preds = torch.max(outputs, 1)\n",
        "        all_preds.extend(preds.cpu().numpy())\n",
        "        all_labels.extend(labels.cpu().numpy())\n",
        "\n",
        "# 🧾 Labels must match your dataset's class order\n",
        "class_names = test_base.classes  # safer than manually writing names\n",
        "\n",
        "print(f\"\\nTest Accuracy: {accuracy_score(all_labels, all_preds):.4f}\")\n",
        "print(\"\\nClassification Report:\")\n",
        "print(classification_report(all_labels, all_preds, target_names=class_names))\n"
      ],
      "metadata": {
        "colab": {
          "base_uri": "https://localhost:8080/"
        },
        "id": "sQ6GuueEs6XF",
        "outputId": "c4902ce6-6b57-4fd1-ee4e-9d3bef5b49c6"
      },
      "execution_count": null,
      "outputs": [
        {
          "output_type": "stream",
          "name": "stdout",
          "text": [
            "\n",
            "Test Accuracy: 0.9812\n",
            "\n",
            "Classification Report:\n",
            "                      precision    recall  f1-score   support\n",
            "\n",
            "     Mild Impairment       0.99      0.98      0.98       179\n",
            " Moderate Impairment       1.00      1.00      1.00        12\n",
            "       No Impairment       0.98      0.99      0.98       640\n",
            "Very Mild Impairment       0.98      0.97      0.98       448\n",
            "\n",
            "            accuracy                           0.98      1279\n",
            "           macro avg       0.99      0.98      0.99      1279\n",
            "        weighted avg       0.98      0.98      0.98      1279\n",
            "\n"
          ]
        }
      ]
    },
    {
      "cell_type": "code",
      "source": [
        "import matplotlib.pyplot as plt\n",
        "\n",
        "def plot_training_history(history):\n",
        "    epochs = range(1, len(history['train_loss']) + 1)\n",
        "\n",
        "    plt.figure(figsize=(14,5))\n",
        "\n",
        "    # Plot Loss\n",
        "    plt.subplot(1, 2, 1)\n",
        "    plt.plot(epochs, history['train_loss'], label='Train Loss')\n",
        "    plt.plot(epochs, history['val_loss'], label='Validation Loss')\n",
        "    plt.title('Training & Validation Loss')\n",
        "    plt.xlabel('Epochs')\n",
        "    plt.ylabel('Loss')\n",
        "    plt.legend()\n",
        "\n",
        "    # Plot Accuracy\n",
        "    plt.subplot(1, 2, 2)\n",
        "    plt.plot(epochs, history['train_acc'], label='Train Accuracy')\n",
        "    plt.plot(epochs, history['val_acc'], label='Validation Accuracy')\n",
        "    plt.title('Training & Validation Accuracy')\n",
        "    plt.xlabel('Epochs')\n",
        "    plt.ylabel('Accuracy')\n",
        "    plt.legend()\n",
        "\n",
        "    plt.show()\n"
      ],
      "metadata": {
        "id": "CWkI0KhssOQt"
      },
      "execution_count": null,
      "outputs": []
    },
    {
      "cell_type": "code",
      "source": [
        "def train_model(model, criterion, optimizer, scheduler, dataloaders, device, num_epochs=10):\n",
        "    history = {\n",
        "        'train_loss': [],\n",
        "        'val_loss': [],\n",
        "        'train_acc': [],\n",
        "        'val_acc': []\n",
        "    }\n",
        "\n",
        "    best_acc = 0.0\n",
        "    best_model_wts = None\n",
        "\n",
        "    for epoch in range(num_epochs):\n",
        "        print(f\"\\n📅 Epoch {epoch + 1}/{num_epochs}\")\n",
        "        print('-' * 30)\n",
        "\n",
        "        for phase in ['train', 'val']:\n",
        "            if phase == 'train':\n",
        "                model.train()\n",
        "            else:\n",
        "                model.eval()\n",
        "\n",
        "            running_loss = 0.0\n",
        "            running_corrects = 0\n",
        "\n",
        "            for inputs, labels in dataloaders[phase]:\n",
        "                inputs, labels = inputs.to(device), labels.to(device)\n",
        "                optimizer.zero_grad()\n",
        "\n",
        "                with torch.set_grad_enabled(phase == 'train'):\n",
        "                    outputs = model(inputs)\n",
        "                    _, preds = torch.max(outputs, 1)\n",
        "                    loss = criterion(outputs, labels)\n",
        "\n",
        "                    if phase == 'train':\n",
        "                        loss.backward()\n",
        "                        optimizer.step()\n",
        "\n",
        "                running_loss += loss.item() * inputs.size(0)\n",
        "                running_corrects += torch.sum(preds == labels.data)\n",
        "\n",
        "            epoch_loss = running_loss / len(dataloaders[phase].dataset)\n",
        "            epoch_acc = running_corrects.double() / len(dataloaders[phase].dataset)\n",
        "\n",
        "            print(f\"{phase.upper()} LOSS: {epoch_loss:.4f} | ACC: {epoch_acc:.4f}\")\n",
        "\n",
        "            history[f'{phase}_loss'].append(epoch_loss)\n",
        "            history[f'{phase}_acc'].append(epoch_acc.item())\n",
        "\n",
        "            if phase == 'val' and epoch_acc > best_acc:\n",
        "                best_acc = epoch_acc\n",
        "                best_model_wts = model.state_dict()\n",
        "\n",
        "        if scheduler:\n",
        "            scheduler.step()\n",
        "\n",
        "    print(f\"\\n✅ Best VAL ACCURACY: {best_acc:.4f}\")\n",
        "\n",
        "    # Load best model weights before returning\n",
        "    model.load_state_dict(best_model_wts)\n",
        "    return model, history\n"
      ],
      "metadata": {
        "id": "JFBIAkkCxkcB"
      },
      "execution_count": null,
      "outputs": []
    },
    {
      "cell_type": "code",
      "source": [
        "trained_model, history = train_model(model, criterion, optimizer, scheduler, dataloaders, device, num_epochs=15)\n"
      ],
      "metadata": {
        "colab": {
          "base_uri": "https://localhost:8080/"
        },
        "id": "TUpFcgKoyA0D",
        "outputId": "3e18543c-0e4f-407f-9d5b-e2cd98fbd9d5"
      },
      "execution_count": null,
      "outputs": [
        {
          "output_type": "stream",
          "name": "stdout",
          "text": [
            "\n",
            "📅 Epoch 1/15\n",
            "------------------------------\n",
            "TRAIN LOSS: 0.0440 | ACC: 0.9843\n",
            "VAL LOSS: 0.0630 | ACC: 0.9766\n",
            "\n",
            "📅 Epoch 2/15\n",
            "------------------------------\n",
            "TRAIN LOSS: 0.0387 | ACC: 0.9879\n",
            "VAL LOSS: 0.0146 | ACC: 0.9961\n",
            "\n",
            "📅 Epoch 3/15\n",
            "------------------------------\n",
            "TRAIN LOSS: 0.0388 | ACC: 0.9869\n",
            "VAL LOSS: 0.0501 | ACC: 0.9819\n",
            "\n",
            "📅 Epoch 4/15\n",
            "------------------------------\n",
            "TRAIN LOSS: 0.0408 | ACC: 0.9871\n",
            "VAL LOSS: 0.0342 | ACC: 0.9878\n",
            "\n",
            "📅 Epoch 5/15\n",
            "------------------------------\n",
            "TRAIN LOSS: 0.0444 | ACC: 0.9852\n",
            "VAL LOSS: 0.0385 | ACC: 0.9873\n",
            "\n",
            "📅 Epoch 6/15\n",
            "------------------------------\n",
            "TRAIN LOSS: 0.0337 | ACC: 0.9884\n",
            "VAL LOSS: 0.0488 | ACC: 0.9844\n",
            "\n",
            "📅 Epoch 7/15\n",
            "------------------------------\n",
            "TRAIN LOSS: 0.0293 | ACC: 0.9906\n",
            "VAL LOSS: 0.0222 | ACC: 0.9937\n",
            "\n",
            "📅 Epoch 8/15\n",
            "------------------------------\n",
            "TRAIN LOSS: 0.0291 | ACC: 0.9895\n",
            "VAL LOSS: 0.0217 | ACC: 0.9912\n",
            "\n",
            "📅 Epoch 9/15\n",
            "------------------------------\n",
            "TRAIN LOSS: 0.0316 | ACC: 0.9901\n",
            "VAL LOSS: 0.0451 | ACC: 0.9878\n",
            "\n",
            "📅 Epoch 10/15\n",
            "------------------------------\n",
            "TRAIN LOSS: 0.0382 | ACC: 0.9865\n",
            "VAL LOSS: 0.0368 | ACC: 0.9844\n",
            "\n",
            "📅 Epoch 11/15\n",
            "------------------------------\n",
            "TRAIN LOSS: 0.0256 | ACC: 0.9908\n",
            "VAL LOSS: 0.0222 | ACC: 0.9922\n",
            "\n",
            "📅 Epoch 12/15\n",
            "------------------------------\n",
            "TRAIN LOSS: 0.0333 | ACC: 0.9888\n",
            "VAL LOSS: 0.0130 | ACC: 0.9946\n",
            "\n",
            "📅 Epoch 13/15\n",
            "------------------------------\n",
            "TRAIN LOSS: 0.0201 | ACC: 0.9928\n",
            "VAL LOSS: 0.0360 | ACC: 0.9917\n",
            "\n",
            "📅 Epoch 14/15\n",
            "------------------------------\n",
            "TRAIN LOSS: 0.0433 | ACC: 0.9843\n",
            "VAL LOSS: 0.0292 | ACC: 0.9902\n",
            "\n",
            "📅 Epoch 15/15\n",
            "------------------------------\n",
            "TRAIN LOSS: 0.0265 | ACC: 0.9913\n",
            "VAL LOSS: 0.0212 | ACC: 0.9927\n",
            "\n",
            "✅ Best VAL ACCURACY: 0.9961\n"
          ]
        }
      ]
    },
    {
      "cell_type": "code",
      "source": [
        "test_base = datasets.ImageFolder(test_dir)  # No transform here\n",
        "test_dataset = AlzheimerDataset(test_base, transform=image_transforms['val'])\n",
        "test_loader = DataLoader(test_dataset, batch_size=32, shuffle=False, num_workers=2)"
      ],
      "metadata": {
        "id": "eUPbwcKXyDyZ"
      },
      "execution_count": null,
      "outputs": []
    },
    {
      "cell_type": "code",
      "source": [
        "from sklearn.metrics import classification_report, accuracy_score\n",
        "\n",
        "all_preds = []\n",
        "all_labels = []\n",
        "\n",
        "trained_model.eval()\n",
        "with torch.no_grad():\n",
        "    for inputs, labels in test_loader:\n",
        "        inputs, labels = inputs.to(device), labels.to(device)\n",
        "        outputs = trained_model(inputs)\n",
        "        _, preds = torch.max(outputs, 1)\n",
        "        all_preds.extend(preds.cpu().numpy())\n",
        "        all_labels.extend(labels.cpu().numpy())\n",
        "\n",
        "# 🧾 Labels must match your dataset's class order\n",
        "class_names = test_base.classes  # safer than manually writing names\n",
        "\n",
        "print(f\"\\nTest Accuracy: {accuracy_score(all_labels, all_preds):.4f}\")\n",
        "print(\"\\nClassification Report:\")\n",
        "print(classification_report(all_labels, all_preds, target_names=class_names))\n"
      ],
      "metadata": {
        "colab": {
          "base_uri": "https://localhost:8080/"
        },
        "id": "YBcPpkQR1Z3O",
        "outputId": "72021716-0ddc-4af1-f354-0d2983363173"
      },
      "execution_count": null,
      "outputs": [
        {
          "output_type": "stream",
          "name": "stdout",
          "text": [
            "\n",
            "Test Accuracy: 0.9836\n",
            "\n",
            "Classification Report:\n",
            "                      precision    recall  f1-score   support\n",
            "\n",
            "     Mild Impairment       0.98      0.99      0.99       179\n",
            " Moderate Impairment       0.92      1.00      0.96        12\n",
            "       No Impairment       0.98      1.00      0.99       640\n",
            "Very Mild Impairment       1.00      0.96      0.98       448\n",
            "\n",
            "            accuracy                           0.98      1279\n",
            "           macro avg       0.97      0.99      0.98      1279\n",
            "        weighted avg       0.98      0.98      0.98      1279\n",
            "\n"
          ]
        }
      ]
    },
    {
      "cell_type": "code",
      "source": [
        "import matplotlib.pyplot as plt\n",
        "\n",
        "def plot_training_history(history):\n",
        "    epochs = range(1, len(history['train_loss']) + 1)\n",
        "\n",
        "    plt.figure(figsize=(12, 5))\n",
        "\n",
        "    plt.subplot(1, 2, 1)\n",
        "    plt.plot(epochs, history['train_loss'], label='Train Loss')\n",
        "    plt.plot(epochs, history['val_loss'], label='Val Loss')\n",
        "    plt.xlabel('Epoch')\n",
        "    plt.ylabel('Loss')\n",
        "    plt.title('Loss Over Epochs')\n",
        "    plt.legend()\n",
        "\n",
        "    plt.subplot(1, 2, 2)\n",
        "    plt.plot(epochs, history['train_acc'], label='Train Accuracy')\n",
        "    plt.plot(epochs, history['val_acc'], label='Val Accuracy')\n",
        "    plt.xlabel('Epoch')\n",
        "    plt.ylabel('Accuracy')\n",
        "    plt.title('Accuracy Over Epochs')\n",
        "    plt.legend()\n",
        "\n",
        "    plt.show()\n",
        "\n",
        "plot_training_history(history)\n"
      ],
      "metadata": {
        "colab": {
          "base_uri": "https://localhost:8080/",
          "height": 487
        },
        "id": "bH67RdJU1rIl",
        "outputId": "cb3ac95a-446a-4ce9-e268-027c0b622f58"
      },
      "execution_count": null,
      "outputs": [
        {
          "output_type": "display_data",
          "data": {
            "text/plain": [
              "<Figure size 1200x500 with 2 Axes>"
            ],
            "image/png": "[encoded data removed]"
          },
          "metadata": {}
        }
      ]
    },
    {
      "cell_type": "code",
      "source": [
        "# Save the model state dict\n",
        "torch.save(trained_model.state_dict(), 'alzheimer_model.pth')\n",
        "print(\"Model saved successfully!\")\n"
      ],
      "metadata": {
        "colab": {
          "base_uri": "https://localhost:8080/"
        },
        "id": "2oDtUlSp18vq",
        "outputId": "16c80b57-d8d8-4c65-bca3-5de07d08e895"
      },
      "execution_count": null,
      "outputs": [
        {
          "output_type": "stream",
          "name": "stdout",
          "text": [
            "Model saved successfully!\n"
          ]
        }
      ]
    },
    {
      "cell_type": "code",
      "source": [],
      "metadata": {
        "id": "_cF2vkHE2W4y"
      },
      "execution_count": null,
      "outputs": []
    },
    {
      "cell_type": "markdown",
      "source": [
        "##Grad-CAM Utility Class"
      ],
      "metadata": {
        "id": "UW3_mZMh20QJ"
      }
    },
    {
      "cell_type": "code",
      "source": [
        "import torch\n",
        "import cv2\n",
        "import numpy as np\n",
        "import matplotlib.pyplot as plt\n",
        "from torchvision import transforms\n",
        "\n",
        "class GradCAM:\n",
        "    def __init__(self, model, target_layer):\n",
        "        self.model = model\n",
        "        self.target_layer = target_layer\n",
        "\n",
        "        self.gradients = None\n",
        "        self.activations = None\n",
        "\n",
        "        self.hook_handles = []\n",
        "\n",
        "        # Register hooks\n",
        "        self._register_hooks()\n",
        "\n",
        "    def _register_hooks(self):\n",
        "        def forward_hook(module, input, output):\n",
        "            self.activations = output.detach()\n",
        "\n",
        "        def backward_hook(module, grad_in, grad_out):\n",
        "            self.gradients = grad_out[0].detach()\n",
        "\n",
        "        self.hook_handles.append(self.target_layer.register_forward_hook(forward_hook))\n",
        "        self.hook_handles.append(self.target_layer.register_backward_hook(backward_hook))\n",
        "\n",
        "    def generate(self, input_tensor, class_idx=None):\n",
        "        self.model.eval()\n",
        "        output = self.model(input_tensor)\n",
        "\n",
        "        if class_idx is None:\n",
        "            class_idx = output.argmax(dim=1).item()\n",
        "\n",
        "        self.model.zero_grad()\n",
        "        class_score = output[0, class_idx]\n",
        "        class_score.backward()\n",
        "\n",
        "        pooled_gradients = torch.mean(self.gradients, dim=[0, 2, 3])\n",
        "        weighted_activations = self.activations[0] * pooled_gradients[:, None, None]\n",
        "        heatmap = torch.sum(weighted_activations, dim=0).cpu()\n",
        "\n",
        "        heatmap = np.maximum(heatmap, 0)\n",
        "        heatmap /= torch.max(heatmap)\n",
        "\n",
        "        return heatmap.numpy()\n",
        "\n",
        "    def remove_hooks(self):\n",
        "        for handle in self.hook_handles:\n",
        "            handle.remove()\n"
      ],
      "metadata": {
        "id": "7jV417jT21gA"
      },
      "execution_count": null,
      "outputs": []
    },
    {
      "cell_type": "code",
      "source": [
        "# Choose a test image (you can load from dataset or path)\n",
        "img_path = r\"C:\\Users\\User\\Desktop\\alzheimer\\Combined Dataset\\test\\Moderate Impairment\\16 (2).jpg\"\n",
        "\n",
        "# Load and transform the image\n",
        "original_img = cv2.imread(img_path)\n",
        "img_rgb = cv2.cvtColor(original_img, cv2.COLOR_BGR2RGB)\n",
        "\n",
        "transform = val_transform  # albumentations transform\n",
        "augmented = transform(image=img_rgb)\n",
        "input_tensor = augmented[\"image\"].unsqueeze(0).to(device)\n"
      ],
      "metadata": {
        "colab": {
          "base_uri": "https://localhost:8080/",
          "height": 211
        },
        "id": "gps-EpBR25tO",
        "outputId": "e7411d6e-5b91-47b6-d6e3-9502594c2de4"
      },
      "execution_count": null,
      "outputs": [
        {
          "output_type": "error",
          "ename": "error",
          "evalue": "OpenCV(4.12.0) /io/opencv/modules/imgproc/src/color.cpp:199: error: (-215:Assertion failed) !_src.empty() in function 'cvtColor'\n",
          "traceback": [
            "\u001b[0;31m---------------------------------------------------------------------------\u001b[0m",
            "\u001b[0;31merror\u001b[0m                                     Traceback (most recent call last)",
            "\u001b[0;32m/tmp/ipython-input-3739540291.py\u001b[0m in \u001b[0;36m<cell line: 0>\u001b[0;34m()\u001b[0m\n\u001b[1;32m      4\u001b[0m \u001b[0;31m# Load and transform the image\u001b[0m\u001b[0;34m\u001b[0m\u001b[0;34m\u001b[0m\u001b[0m\n\u001b[1;32m      5\u001b[0m \u001b[0moriginal_img\u001b[0m \u001b[0;34m=\u001b[0m \u001b[0mcv2\u001b[0m\u001b[0;34m.\u001b[0m\u001b[0mimread\u001b[0m\u001b[0;34m(\u001b[0m\u001b[0mimg_path\u001b[0m\u001b[0;34m)\u001b[0m\u001b[0;34m\u001b[0m\u001b[0;34m\u001b[0m\u001b[0m\n\u001b[0;32m----> 6\u001b[0;31m \u001b[0mimg_rgb\u001b[0m \u001b[0;34m=\u001b[0m \u001b[0mcv2\u001b[0m\u001b[0;34m.\u001b[0m\u001b[0mcvtColor\u001b[0m\u001b[0;34m(\u001b[0m\u001b[0moriginal_img\u001b[0m\u001b[0;34m,\u001b[0m \u001b[0mcv2\u001b[0m\u001b[0;34m.\u001b[0m\u001b[0mCOLOR_BGR2RGB\u001b[0m\u001b[0;34m)\u001b[0m\u001b[0;34m\u001b[0m\u001b[0;34m\u001b[0m\u001b[0m\n\u001b[0m\u001b[1;32m      7\u001b[0m \u001b[0;34m\u001b[0m\u001b[0m\n\u001b[1;32m      8\u001b[0m \u001b[0mtransform\u001b[0m \u001b[0;34m=\u001b[0m \u001b[0mval_transform\u001b[0m  \u001b[0;31m# albumentations transform\u001b[0m\u001b[0;34m\u001b[0m\u001b[0;34m\u001b[0m\u001b[0m\n",
            "\u001b[0;31merror\u001b[0m: OpenCV(4.12.0) /io/opencv/modules/imgproc/src/color.cpp:199: error: (-215:Assertion failed) !_src.empty() in function 'cvtColor'\n"
          ]
        }
      ]
    },
    {
      "cell_type": "code",
      "source": [
        "import os\n",
        "\n",
        "img_path = r\"C:\\Users\\User\\Desktop\\alzheimer\\Combined Dataset\\test\\Moderate Impairment\\14.jpg\"\n",
        "print(\"Image exists?\", os.path.exists(img_path))\n"
      ],
      "metadata": {
        "colab": {
          "base_uri": "https://localhost:8080/"
        },
        "id": "e15XG5a2287I",
        "outputId": "3749b62b-43d4-45a8-f830-20f2ee686f52"
      },
      "execution_count": null,
      "outputs": [
        {
          "output_type": "stream",
          "name": "stdout",
          "text": [
            "Image exists? False\n"
          ]
        }
      ]
    },
    {
      "cell_type": "code",
      "source": [],
      "metadata": {
        "id": "Ag7MjI-H4gKR"
      },
      "execution_count": null,
      "outputs": []
    }
  ]
}